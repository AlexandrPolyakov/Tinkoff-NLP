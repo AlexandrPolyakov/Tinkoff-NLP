{
  "nbformat": 4,
  "nbformat_minor": 0,
  "metadata": {
    "colab": {
      "name": "lm_homework.ipynb",
      "version": "0.3.2",
      "provenance": [],
      "collapsed_sections": []
    },
    "kernelspec": {
      "name": "python3",
      "display_name": "Python 3"
    },
    "accelerator": "GPU"
  },
  "cells": [
    {
      "metadata": {
        "id": "QK2vT0cdQhk6",
        "colab_type": "text"
      },
      "cell_type": "markdown",
      "source": [
        "# Fun with language modelling\n",
        "\n",
        "Если вы пропустили лекцию, то посмотрите слайды к ней — они где-то есть. Также полезно почитать:\n",
        "\n",
        "* [Unreasonable effectiveness of RNN](http://karpathy.github.io/2015/05/21/rnn-effectiveness/) (Andrej Karpathy)\n",
        "* [Официальный гайд от TensorFlow](https://www.tensorflow.org/tutorials/sequences/recurrent)\n",
        "\n",
        "Домашка сложная, но интересная. Рекомендуется заранее всё прочитать, чтобы понять, что от вас хотят.\n",
        "\n",
        "Отсутствие багов и плохих практик в коде не гарантируется — можете переписать всё так, как подсказывает ваше сердце.\n",
        "\n",
        "---"
      ]
    },
    {
      "metadata": {
        "id": "sElEaMknOSzS",
        "colab_type": "text"
      },
      "cell_type": "markdown",
      "source": [
        "- Препроцессинг\n",
        "- Модель и обучение (PyTorch)\n",
        "- Генерация предложений\n",
        "- Спеллчекер"
      ]
    },
    {
      "metadata": {
        "id": "sahPnfSHO8sV",
        "colab_type": "code",
        "outputId": "f7633389-1736-481f-ff5f-3eaaceca1f54",
        "colab": {
          "base_uri": "https://localhost:8080/",
          "height": 34
        }
      },
      "cell_type": "code",
      "source": [
        "from google.colab import drive\n",
        "drive.mount('/content/gdrive')"
      ],
      "execution_count": 0,
      "outputs": [
        {
          "output_type": "stream",
          "text": [
            "Drive already mounted at /content/gdrive; to attempt to forcibly remount, call drive.mount(\"/content/gdrive\", force_remount=True).\n"
          ],
          "name": "stdout"
        }
      ]
    },
    {
      "metadata": {
        "id": "imeu0_bV6vHd",
        "colab_type": "text"
      },
      "cell_type": "markdown",
      "source": [
        ""
      ]
    },
    {
      "metadata": {
        "id": "-Ci_DcxGO9Ex",
        "colab_type": "code",
        "outputId": "8068dadd-4a77-4da6-e549-776723c84163",
        "colab": {
          "base_uri": "https://localhost:8080/",
          "height": 68
        }
      },
      "cell_type": "code",
      "source": [
        "import torch\n",
        "import torch.nn as nn\n",
        "from torch import optim\n",
        "import torch.nn.functional as F\n",
        "from torch.autograd import Variable\n",
        "\n",
        "import string\n",
        "import csv\n",
        "import numpy as np\n",
        "import random\n",
        "import re\n",
        "from io import open\n",
        "from tqdm import tqdm\n",
        "\n",
        "import nltk\n",
        "nltk.download('punkt')"
      ],
      "execution_count": 0,
      "outputs": [
        {
          "output_type": "stream",
          "text": [
            "[nltk_data] Downloading package punkt to /root/nltk_data...\n",
            "[nltk_data]   Package punkt is already up-to-date!\n"
          ],
          "name": "stdout"
        },
        {
          "output_type": "execute_result",
          "data": {
            "text/plain": [
              "True"
            ]
          },
          "metadata": {
            "tags": []
          },
          "execution_count": 2
        }
      ]
    },
    {
      "metadata": {
        "id": "4dhgy-NtPX8V",
        "colab_type": "code",
        "colab": {}
      },
      "cell_type": "code",
      "source": [
        "USE_CUDA = torch.cuda.is_available()\n",
        "device = torch.device(\"cuda\" if USE_CUDA else \"cpu\")"
      ],
      "execution_count": 0,
      "outputs": []
    },
    {
      "metadata": {
        "id": "fXJuQVi4Paxt",
        "colab_type": "code",
        "outputId": "0ebb94ca-c42f-4483-e0fc-7ac286a9fe04",
        "colab": {
          "base_uri": "https://localhost:8080/",
          "height": 63
        }
      },
      "cell_type": "code",
      "source": [
        "!pip install torch==0.4.1"
      ],
      "execution_count": 0,
      "outputs": [
        {
          "output_type": "stream",
          "text": [
            "Requirement already satisfied: torch==0.4.1 in /usr/local/lib/python3.6/dist-packages (0.4.1)\n"
          ],
          "name": "stdout"
        }
      ]
    },
    {
      "metadata": {
        "id": "KW1e8gd-QomT",
        "colab_type": "text"
      },
      "cell_type": "markdown",
      "source": [
        "## Препроцессинг (2 балла)\n",
        "\n",
        "Возьмите какие-нибудь сырые данные. Википедия, «Гарри Поттер», «Игра Престолов», твиты Тинькова — что угодно.\n",
        "\n",
        "Для простоты будем делать char-level модель. Выкиньте из текстов все ненужные символы (можете оставить только алфавит и, возможно, пунктуацию). Сопоставьте всем различным символам свой номер. Удобно это хранить просто в питоновском словаре (`char2idx`). Для генерации вам потребуется ещё и обратный словарь (`idx2char`).\n",
        "\n",
        "Заранее зарезервируйте там место под служебные символы: `<START>`, `<END>`, `<PAD>`, `<UNK>`.\n",
        "\n",
        "Клёво будет написать отдельный класс, который делает токенизацию и детокенизацию."
      ]
    },
    {
      "metadata": {
        "id": "wMtLCq-2QyBo",
        "colab_type": "text"
      },
      "cell_type": "markdown",
      "source": [
        "Если у вас какой-то большой массив текста (скажем, статьи Википедии), вы можете просто нарезать из него кусочки фиксированной длины и так их подавать в модель.\n",
        "\n",
        "(Опционально) Иногда вы хотите приключений и, скажем, разбить этот текст на предложения (`nltk.sent_tokenize`), и тогда все примеры будут разной длины. По соображениям производительности, вы не хотите использовать самые длинные и самые короткие сэмплы, поэтому имеет смысл обрезать их по длине."
      ]
    },
    {
      "metadata": {
        "id": "4yAmCap0RLCh",
        "colab_type": "text"
      },
      "cell_type": "markdown",
      "source": [
        "### Описание\n",
        "\n",
        "- Беру текст Игры Престолов\n",
        "- Создаю класс с методами предобработки, добавления специальных символов, словарями\n",
        "- Разделяю текст на предложения\n",
        "- Соответственно, предложения являются примерами\n",
        "- Будем генерировать предложения"
      ]
    },
    {
      "metadata": {
        "id": "c17gp9Z6PcOV",
        "colab_type": "code",
        "colab": {}
      },
      "cell_type": "code",
      "source": [
        "PAD_token = 0 #<PAD>\n",
        "START_token = 1 #<START>\n",
        "END_token = 2 #<END>\n",
        "UNK_token = 3 #<UNK>"
      ],
      "execution_count": 0,
      "outputs": []
    },
    {
      "metadata": {
        "id": "2TCYraZBPpeB",
        "colab_type": "code",
        "colab": {}
      },
      "cell_type": "code",
      "source": [
        "class Vocab:\n",
        "    \n",
        "    \n",
        "    def __init__(self, data):\n",
        "        self.char2idx = {'<START>': START_token, '<END>': END_token, '<PAD>': PAD_token, '<UNK>': UNK_token}\n",
        "        self.idx2char = {START_token: '<START>', END_token: '<END>',\n",
        "                         PAD_token: \"<PAD>\", UNK_token: \"<UNK>\"}\n",
        "        self.num_chars = 4\n",
        "        self.maxlen = 200\n",
        "        self.data = data\n",
        "        \n",
        "    \n",
        "    def addChar(self, char):\n",
        "        if char not in self.char2idx:\n",
        "            self.char2idx[char] = self.num_chars\n",
        "            self.idx2char[self.num_chars] = char\n",
        "            self.num_chars += 1\n",
        "            \n",
        "    def clean(self, sequence):\n",
        "        sequence = re.sub(r\"([.!?,–:])\", r\" \\1\", sequence)\n",
        "        sequence = re.sub(r\"[^а-яА-Я.!?,–:]+\", r\" \", sequence)\n",
        "        sequence = re.sub(r\"\\s+\", r\" \", sequence).strip()\n",
        "        return sequence\n",
        "        \n",
        "        \n",
        "    def tokenize_first(self, sequence, fit = True):\n",
        "        if fit:\n",
        "            for char in sequence:\n",
        "                self.addChar(char)\n",
        "        \n",
        "        tokenized = [self.char2idx['<START>']]\n",
        "        for char in sequence:\n",
        "            try:\n",
        "                tokenized.append(self.char2idx[char])\n",
        "            except KeyError:\n",
        "                tokenized.append(self.char2idx['<UNK>'])\n",
        "        tokenized.append(self.char2idx['<END>'])\n",
        "        \n",
        "        if len(tokenized) > self.maxlen:\n",
        "          tokenized = tokenized[:self.maxlen]\n",
        "        \n",
        "        return tokenized    \n",
        "      \n",
        "      \n",
        "    def pad_tokenized(self, tokenized):\n",
        "        if len(tokenized) < self.maxlen:\n",
        "            for _ in range(self.maxlen - len(tokenized)):\n",
        "                tokenized.append(self.char2idx['<PAD>'])\n",
        "        return tokenized \n",
        "    \n",
        "    \n",
        "    def detokenize(self, sequence):\n",
        "        return ''.join([self.idx2char[idx] for idx in sequence])\n",
        "    \n",
        "    \n",
        "    def __len__(self):\n",
        "        return len(self.char2idx)\n",
        "    \n",
        "    \n",
        "    def transform(self, data = [], fit = True):\n",
        "        if len(data) == 0:\n",
        "            data = self.data\n",
        "        for i in range(len(data)):\n",
        "            data[i] = self.tokenize(data[i], fit)\n",
        "        return data\n",
        "    \n",
        "    def transform_back(self, data = []):\n",
        "        if len(data) == 0:\n",
        "            data = self.data\n",
        "        for i in range(len(data)):\n",
        "            data[i] = self.detokenize(data[i])\n",
        "        return data"
      ],
      "execution_count": 0,
      "outputs": []
    },
    {
      "metadata": {
        "id": "j5GOEP5tP-9V",
        "colab_type": "code",
        "colab": {}
      },
      "cell_type": "code",
      "source": [
        "with open('gdrive/My Drive/Colab Notebooks/Thrones.txt', 'r', encoding='Windows-1251') as data:\n",
        "    data = data.read()"
      ],
      "execution_count": 0,
      "outputs": []
    },
    {
      "metadata": {
        "id": "upwVKJqvdZNz",
        "colab_type": "code",
        "colab": {}
      },
      "cell_type": "code",
      "source": [
        "def lengths(data):\n",
        "    return np.array([elem for elem in map(len, data)])"
      ],
      "execution_count": 0,
      "outputs": []
    },
    {
      "metadata": {
        "id": "TBJ82XPtQEO4",
        "colab_type": "code",
        "colab": {}
      },
      "cell_type": "code",
      "source": [
        "# обучите вокаб\n",
        "tokenizer = Vocab(data)\n",
        "data = tokenizer.clean(data)\n",
        "tokenized_data = tokenizer.tokenize_first(data)"
      ],
      "execution_count": 0,
      "outputs": []
    },
    {
      "metadata": {
        "id": "iQG-mByhQHB0",
        "colab_type": "code",
        "colab": {}
      },
      "cell_type": "code",
      "source": [
        "data_len = len(data)"
      ],
      "execution_count": 0,
      "outputs": []
    },
    {
      "metadata": {
        "id": "aM6jMvg9QIgt",
        "colab_type": "code",
        "colab": {}
      },
      "cell_type": "code",
      "source": [
        "data = nltk.sent_tokenize(data)"
      ],
      "execution_count": 0,
      "outputs": []
    },
    {
      "metadata": {
        "id": "ue6QlKYeQchD",
        "colab_type": "code",
        "outputId": "235721fd-1f5e-4478-e8c4-a7dae81f8458",
        "colab": {
          "base_uri": "https://localhost:8080/",
          "height": 357
        }
      },
      "cell_type": "code",
      "source": [
        "#Примеры\n",
        "for i in range(10):\n",
        "    print(random.choice(list(data)))\n",
        "    print('-----')"
      ],
      "execution_count": 0,
      "outputs": [
        {
          "output_type": "stream",
          "text": [
            "Иного они не заслуживали , и я не буду из за них тревожить свой сон .\n",
            "-----\n",
            "Молодой рыцарь посмотрел на него с презрительной улыбкой : – В самом деле ?\n",
            "-----\n",
            "– И что , если так ?\n",
            "-----\n",
            "И каждый новый день , проведенный среди них , заставлял Джона презирать этот сброд все больше и больше .\n",
            "-----\n",
            "– И я приношу клятву , – проговорил мейстер Лювин .\n",
            "-----\n",
            "Бран Утро выдалось чистым и ясным , свежесть напоминала о близящемся конце лета .\n",
            "-----\n",
            "И мгновение спустя направился назад улыбаясь .\n",
            "-----\n",
            "Такая здесь жизнь , и тебе предстоит такая же судьба , как и всем остальным .\n",
            "-----\n",
            "Ты должен испить ее , хочешь этого или нет .\n",
            "-----\n",
            "Он то и был рожден , чтобы стать десницей короля и отцом королевы .\n",
            "-----\n"
          ],
          "name": "stdout"
        }
      ]
    },
    {
      "metadata": {
        "id": "A39uxmDSQnB2",
        "colab_type": "code",
        "colab": {}
      },
      "cell_type": "code",
      "source": [
        "test = data[4500:]\n",
        "train = data[0:4500]"
      ],
      "execution_count": 0,
      "outputs": []
    },
    {
      "metadata": {
        "id": "Psfyxf5SQwU2",
        "colab_type": "code",
        "colab": {}
      },
      "cell_type": "code",
      "source": [
        "train_len = len(train)"
      ],
      "execution_count": 0,
      "outputs": []
    },
    {
      "metadata": {
        "id": "tzMVZKBUQxXt",
        "colab_type": "code",
        "colab": {}
      },
      "cell_type": "code",
      "source": [
        "encoded_train = [tokenizer.tokenize_first(sequence) for sequence in train]\n",
        "encoded_test = [tokenizer.tokenize_first(sequence) for sequence in test]"
      ],
      "execution_count": 0,
      "outputs": []
    },
    {
      "metadata": {
        "id": "a_mibD_GQ1y6",
        "colab_type": "text"
      },
      "cell_type": "markdown",
      "source": [
        "## Модель (1 балл) и обучение (3 балла)\n",
        "\n",
        "Примерно такое должно зайти:\n",
        "\n",
        "* Эмбеддинг\n",
        "* LSTM / GRU\n",
        "* Дропаут\n",
        "* Линейный слой\n",
        "* Softmax\n",
        "\n",
        "Рекомендуется некоторые части не писать самому, а пользоваться готовыми функциями из `tf.contrib.seq2seq`. Будет проще, если обернуть итоговую модель в `Estimator`."
      ]
    },
    {
      "metadata": {
        "id": "WpDFcfJ_RsIg",
        "colab_type": "text"
      },
      "cell_type": "markdown",
      "source": [
        "### Описание\n",
        "- Делаю на PyTorch"
      ]
    },
    {
      "metadata": {
        "id": "56rBhKwXRI8-",
        "colab_type": "code",
        "colab": {}
      },
      "cell_type": "code",
      "source": [
        "class LM(nn.Module):\n",
        "    def __init__(self, \n",
        "                 vocab_size,\n",
        "                 emb_dim, \n",
        "                 rnn_dim,\n",
        "                 num_layers, \n",
        "                 dropout):\n",
        "        \n",
        "        super(LM, self).__init__()\n",
        "        \n",
        "        self.rnn_dim = rnn_dim\n",
        "        \n",
        "        self.embedding = nn.Embedding(vocab_size, emb_dim)\n",
        "        self.lstm = nn.LSTM(input_size = emb_dim, \n",
        "                            hidden_size = rnn_dim, \n",
        "                            num_layers = num_layers, \n",
        "                            dropout = dropout,\n",
        "                            batch_first = True)\n",
        "        \n",
        "        self.dropout = nn.Dropout(dropout)\n",
        "        self.linear = nn.Linear(rnn_dim,vocab_size)\n",
        "        self.softmax = nn.LogSoftmax(dim=2)\n",
        "\n",
        "    def forward(self, inp, seq_length, hidden_states, use_temperature=False, temperature=1.0):\n",
        "        embedded = self.embedding(inp)\n",
        "        packed_embedded = nn.utils.rnn.pack_padded_sequence(embedded, seq_length, batch_first=True)\n",
        "        packed_output, (ht, ct) = self.lstm(packed_embedded, hidden_states)\n",
        "        (lstm_output, length) = nn.utils.rnn.pad_packed_sequence(packed_output, batch_first=True)\n",
        "        \n",
        "        lstm_output = self.dropout(lstm_output)\n",
        "        output_linear = self.linear(lstm_output)\n",
        "        if use_temperature: output_linear = output_linear / temperature\n",
        "        output = self.softmax(output_linear)\n",
        "        return output, (ht, ct)\n",
        "\n",
        "    def initLM(self, batch_size):\n",
        "      return (Variable(torch.zeros(num_layers, batch_size, self.rnn_dim).cuda()), Variable(torch.zeros(num_layers, batch_size, self.rnn_dim)).cuda())"
      ],
      "execution_count": 0,
      "outputs": []
    },
    {
      "metadata": {
        "id": "-qWxIkyfRwZw",
        "colab_type": "code",
        "colab": {}
      },
      "cell_type": "code",
      "source": [
        "emb_dim = 1024\n",
        "num_layers = 3\n",
        "rnn_dim = 2048\n",
        "dropout = 0.1\n",
        "batch_size = 64\n",
        "learning_rate = 0.0005\n",
        "vocab_size = len(tokenizer.idx2char)\n",
        "\n",
        "losses = []\n",
        "test_losses = []\n",
        "step_count = 0\n",
        "\n",
        "epochs = 10"
      ],
      "execution_count": 0,
      "outputs": []
    },
    {
      "metadata": {
        "id": "uqu3WUBjSJdW",
        "colab_type": "code",
        "colab": {}
      },
      "cell_type": "code",
      "source": [
        "lm = LM(vocab_size, emb_dim, rnn_dim, num_layers, dropout).cuda()\n",
        "loss_func = nn.CrossEntropyLoss(ignore_index=tokenizer.char2idx['<PAD>'])\n",
        "optimizer = torch.optim.Adam(lm.parameters())"
      ],
      "execution_count": 0,
      "outputs": []
    },
    {
      "metadata": {
        "id": "cB5fetzjTDI4",
        "colab_type": "code",
        "outputId": "963e5f3f-fbed-4bbb-a886-469cd2fa3e5b",
        "colab": {
          "base_uri": "https://localhost:8080/",
          "height": 357
        }
      },
      "cell_type": "code",
      "source": [
        "for _ in range(epochs):\n",
        "  \n",
        "    random.shuffle(encoded_train)\n",
        "    batches = np.array_split(encoded_train, int(len(encoded_train)/batch_size))\n",
        "    \n",
        "    test_batches = np.array_split(encoded_test, int(len(encoded_test)/batch_size))\n",
        "    \n",
        "    \n",
        "    #Обучение\n",
        "    for batch in tqdm(batches):\n",
        "\n",
        "        batch = list(batch)\n",
        "        batch.sort(key=len, reverse=True)\n",
        "\n",
        "        batch_input = [i[:-1] for i in batch]\n",
        "        batch_target = [i[1:] for i in batch]\n",
        "        \n",
        "        batch_input_pad = np.array([tokenizer.pad_tokenized(i) for i in batch_input])\n",
        "        batch_target_pad = np.array([tokenizer.pad_tokenized(i) for i in batch_target])\n",
        "\n",
        "        input_var = Variable(torch.cuda.LongTensor(batch_input_pad))\n",
        "        \n",
        "        output, _ = lm(input_var, lengths(batch_input), \n",
        "                                  lm.initLM(len(batch_input)) ,\n",
        "                                  use_temperature = False)\n",
        "        \n",
        "        flatten_output = output.contiguous()\n",
        "        flatten_output = flatten_output.view(-1, vocab_size)\n",
        "        flatten_target = Variable(torch.cuda.LongTensor(batch_target_pad.flatten()))\n",
        "        \n",
        "        loss = loss_func(flatten_output , flatten_target)\n",
        "        losses.append(float(loss))\n",
        "        \n",
        "        optimizer.zero_grad()\n",
        "        loss.backward()\n",
        "        optimizer.step()\n",
        "        \n",
        "        step_count+=1\n",
        "        \n",
        "    #Валидация\n",
        "    for batch in tqdm(test_batches):\n",
        "      batch = list(batch)\n",
        "      batch.sort(key=len, reverse=True)\n",
        "\n",
        "      batch_input = [i[:-1] for i in batch]\n",
        "      batch_target = [i[1:] for i in batch]\n",
        "\n",
        "      batch_input_pad = np.array([tokenizer.pad_tokenized(i) for i in batch_input])\n",
        "      batch_target_pad = np.array([tokenizer.pad_tokenized(i) for i in batch_target])\n",
        "\n",
        "      input_var = Variable(torch.cuda.LongTensor(batch_input_pad))\n",
        "\n",
        "      output, _ = lm(input_var, lengths(batch_input), \n",
        "                                lm.initLM(len(batch_input)) ,\n",
        "                                use_temperature = False)\n",
        "      \n",
        "      flatten_output = output.contiguous()\n",
        "      flatten_output = flatten_output.view(-1,vocab_size)\n",
        "      flatten_target = Variable(torch.cuda.LongTensor(batch_target_pad.flatten()))\n",
        "      \n",
        "      loss = loss_func(flatten_output , flatten_target)\n",
        "      test_losses.append(float(loss))\n",
        "        "
      ],
      "execution_count": 0,
      "outputs": [
        {
          "output_type": "stream",
          "text": [
            "100%|██████████| 70/70 [04:55<00:00,  3.78s/it]\n",
            "100%|██████████| 26/26 [00:53<00:00,  1.45s/it]\n",
            "100%|██████████| 70/70 [05:00<00:00,  3.78s/it]\n",
            "100%|██████████| 26/26 [00:53<00:00,  1.46s/it]\n",
            "100%|██████████| 70/70 [05:00<00:00,  3.78s/it]\n",
            "100%|██████████| 26/26 [00:53<00:00,  1.46s/it]\n",
            "100%|██████████| 70/70 [05:00<00:00,  3.78s/it]\n",
            "100%|██████████| 26/26 [00:53<00:00,  1.45s/it]\n",
            "100%|██████████| 70/70 [05:00<00:00,  3.77s/it]\n",
            "100%|██████████| 26/26 [00:53<00:00,  1.44s/it]\n",
            "100%|██████████| 70/70 [04:56<00:00,  3.71s/it]\n",
            "100%|██████████| 26/26 [00:52<00:00,  1.43s/it]\n",
            "100%|██████████| 70/70 [04:54<00:00,  3.72s/it]\n",
            "100%|██████████| 26/26 [00:52<00:00,  1.43s/it]\n",
            "100%|██████████| 70/70 [04:55<00:00,  3.72s/it]\n",
            "100%|██████████| 26/26 [00:52<00:00,  1.43s/it]\n",
            "100%|██████████| 70/70 [04:54<00:00,  3.72s/it]\n",
            "100%|██████████| 26/26 [00:52<00:00,  1.43s/it]\n",
            "100%|██████████| 70/70 [04:55<00:00,  3.72s/it]\n",
            "100%|██████████| 26/26 [00:52<00:00,  1.44s/it]\n"
          ],
          "name": "stderr"
        }
      ]
    },
    {
      "metadata": {
        "id": "OZQAKk4EYIw9",
        "colab_type": "code",
        "outputId": "f41102e8-8be0-4f41-ee2f-ce18fe9cd2ab",
        "colab": {
          "base_uri": "https://localhost:8080/",
          "height": 282
        }
      },
      "cell_type": "code",
      "source": [
        "import matplotlib.pyplot as plt\n",
        "import matplotlib.ticker as ticker\n",
        "%matplotlib inline\n",
        "\n",
        "plt.figure()\n",
        "plt.plot(losses, 'g')"
      ],
      "execution_count": 0,
      "outputs": [
        {
          "output_type": "execute_result",
          "data": {
            "text/plain": [
              "[<matplotlib.lines.Line2D at 0x7f91d787a550>]"
            ]
          },
          "metadata": {
            "tags": []
          },
          "execution_count": 20
        },
        {
          "output_type": "display_data",
          "data": {
            "image/png": "[encoded data removed]",
            "text/plain": [
              "<Figure size 432x288 with 1 Axes>"
            ]
          },
          "metadata": {
            "tags": []
          }
        }
      ]
    },
    {
      "metadata": {
        "id": "KSJEXDYMxI9P",
        "colab_type": "code",
        "outputId": "d784fb22-fe12-4d7a-c79b-6029d95a2e7e",
        "colab": {
          "base_uri": "https://localhost:8080/",
          "height": 282
        }
      },
      "cell_type": "code",
      "source": [
        "%matplotlib inline\n",
        "\n",
        "plt.figure()\n",
        "plt.plot(test_losses, 'b')"
      ],
      "execution_count": 0,
      "outputs": [
        {
          "output_type": "execute_result",
          "data": {
            "text/plain": [
              "[<matplotlib.lines.Line2D at 0x7f91d27394a8>]"
            ]
          },
          "metadata": {
            "tags": []
          },
          "execution_count": 21
        },
        {
          "output_type": "display_data",
          "data": {
            "image/png": "[encoded data removed]",
            "text/plain": [
              "<Figure size 432x288 with 1 Axes>"
            ]
          },
          "metadata": {
            "tags": []
          }
        }
      ]
    },
    {
      "metadata": {
        "id": "iJbgV8l_Q94M",
        "colab_type": "text"
      },
      "cell_type": "markdown",
      "source": [
        "## Генерация предложений (3 балла)\n",
        "\n",
        "* Поддерживайте hidden state при генерации. Не пересчитывайте ничего больше одного раза.\n",
        "* Прикрутите температуру: это когда при сэмплировании все логиты (то, что перед софтмаксом) делятся на какое-то число (по умолчанию 1, тогда ничего не меняется). Температура позволяет делать trade-off между разнообразием и правдоподобием (подробнее — см. блог Карпатого).\n",
        "* Ваша реализация должна уметь принимать строку seed — то, с чего должно начинаться сгенерированная строка.\n",
        "\n",
        "Если сделаете все вышеперечисленное, то получите 2 балла. Если сделаете хоть какую-то генерацию, то 1 балл."
      ]
    },
    {
      "metadata": {
        "id": "f8YO0ozoR-fL",
        "colab_type": "code",
        "colab": {}
      },
      "cell_type": "code",
      "source": [
        "def generates_sequence(start_string, max_length, use_temperature = False, temperature=1.0):\n",
        "    \n",
        "    input_encoded = []\n",
        "    for char in start_string:\n",
        "        input_encoded.append(tokenizer.char2idx[char])\n",
        "\n",
        "    top_index = 0\n",
        "    result = start_string\n",
        "    hidden = lm.initLM(1)\n",
        "    \n",
        "    input_var =Variable(torch.cuda.LongTensor([input_encoded]))\n",
        "    \n",
        "    while input_encoded[0] != tokenizer.char2idx['<END>']:\n",
        "    \n",
        "        \n",
        "        output, hidden = lm(input_var,\n",
        "                              np.array([len(input_encoded)]), \n",
        "                              hidden ,\n",
        "                              use_temperature, temperature)\n",
        "\n",
        "        input_encoded = [int(output.cpu().data.topk(1,dim=2)[1].numpy()[0][-1])]\n",
        "       \n",
        "        result+=tokenizer.idx2char[input_encoded[0]]\n",
        "        \n",
        "        if len(result) > max_length: break\n",
        "        \n",
        "        input_var = Variable(torch.cuda.LongTensor(input_encoded)).view(1,1)\n",
        "        \n",
        "    return result[:-5] #Чтобы выводить без <END>"
      ],
      "execution_count": 0,
      "outputs": []
    },
    {
      "metadata": {
        "id": "txEHmEimUcWp",
        "colab_type": "code",
        "outputId": "ef230e64-847a-4f78-9bfa-598d73521fe7",
        "colab": {
          "base_uri": "https://localhost:8080/",
          "height": 187
        }
      },
      "cell_type": "code",
      "source": [
        "for i in range(5):\n",
        "    print(generates_sequence('Дыхан', 50))\n",
        "    print('---')"
      ],
      "execution_count": 0,
      "outputs": [
        {
          "output_type": "stream",
          "text": [
            "Дыхание собственного отца .\n",
            "---\n",
            "Дыхание открытые каменные стены .\n",
            "---\n",
            "Дыхание собственных дракон .\n",
            "---\n",
            "Дыхание совершения , – проговорил он .\n",
            "---\n",
            "Дыхание собственное совершение .\n",
            "---\n"
          ],
          "name": "stdout"
        }
      ]
    },
    {
      "metadata": {
        "id": "FY5hyF0dhk9B",
        "colab_type": "code",
        "outputId": "4d63efbf-2927-46f3-a8b7-2383f49482e0",
        "colab": {
          "base_uri": "https://localhost:8080/",
          "height": 187
        }
      },
      "cell_type": "code",
      "source": [
        "for i in range(5):\n",
        "    print(generates_sequence('О мире опасных', 100))\n",
        "    print('---')"
      ],
      "execution_count": 0,
      "outputs": [
        {
          "output_type": "stream",
          "text": [
            "О мире опасных веселей .\n",
            "---\n",
            "О мире опасных прикосновением .\n",
            "---\n",
            "О мире опасных взглядом .\n",
            "---\n",
            "О мире опасных принцессой .\n",
            "---\n",
            "О мире опасных детей .\n",
            "---\n"
          ],
          "name": "stdout"
        }
      ]
    },
    {
      "metadata": {
        "id": "gxmxQkp3p4pQ",
        "colab_type": "code",
        "outputId": "6b8610eb-4086-410e-ffe2-abde321ff15e",
        "colab": {
          "base_uri": "https://localhost:8080/",
          "height": 187
        }
      },
      "cell_type": "code",
      "source": [
        "for i in range(5):\n",
        "    print(generates_sequence('Тирио', 100))\n",
        "    print('---')"
      ],
      "execution_count": 0,
      "outputs": [
        {
          "output_type": "stream",
          "text": [
            "Тирион поглядел на него .\n",
            "---\n",
            "Тирион поглядел на него .\n",
            "---\n",
            "Тирион поглядел на нее .\n",
            "---\n",
            "Тирион поглядел на него .\n",
            "---\n",
            "Тирион поглядел на него .\n",
            "---\n"
          ],
          "name": "stdout"
        }
      ]
    },
    {
      "metadata": {
        "id": "vaf6KRKuG1PP",
        "colab_type": "code",
        "outputId": "94954b7d-e101-42f8-9c72-c21ccd9d509b",
        "colab": {
          "base_uri": "https://localhost:8080/",
          "height": 187
        }
      },
      "cell_type": "code",
      "source": [
        "for i in range(5):\n",
        "    print(generates_sequence('Кейт', 100, use_temperature=True, temperature=1))\n",
        "    print('---')"
      ],
      "execution_count": 0,
      "outputs": [
        {
          "output_type": "stream",
          "text": [
            "Кейтилин поглядела на него .\n",
            "---\n",
            "Кейтилин поставила ее .\n",
            "---\n",
            "Кейтилин поглядела на него .\n",
            "---\n",
            "Кейтилин скоро , – проговорил он .\n",
            "---\n",
            "Кейтилин совершала ее .\n",
            "---\n"
          ],
          "name": "stdout"
        }
      ]
    },
    {
      "metadata": {
        "id": "FhfOjTgPhhjO",
        "colab_type": "code",
        "outputId": "99af05ef-ce9f-4181-f4d7-5832d829300f",
        "colab": {
          "base_uri": "https://localhost:8080/",
          "height": 187
        }
      },
      "cell_type": "code",
      "source": [
        "for i in range(5):\n",
        "    print(generates_sequence('Кейт', 100, use_temperature=True, temperature=1))\n",
        "    print('---')"
      ],
      "execution_count": 0,
      "outputs": [
        {
          "output_type": "stream",
          "text": [
            "Кейтилин .\n",
            "---\n",
            "Кейтилин спросила своего коня .\n",
            "---\n",
            "Кейтилин .\n",
            "---\n",
            "Кейтилин сказала , что не сомневаться .\n",
            "---\n",
            "Кейтилин .\n",
            "---\n"
          ],
          "name": "stdout"
        }
      ]
    },
    {
      "metadata": {
        "id": "C0-JziMDVBmk",
        "colab_type": "code",
        "outputId": "b57cc63b-bac6-4536-f578-fb5a77097c23",
        "colab": {
          "base_uri": "https://localhost:8080/",
          "height": 187
        }
      },
      "cell_type": "code",
      "source": [
        "for i in range(5):\n",
        "    print(generates_sequence('Тирио', 100, use_temperature=True, temperature=5))\n",
        "    print('---')"
      ],
      "execution_count": 0,
      "outputs": [
        {
          "output_type": "stream",
          "text": [
            "Тирион поглядел на него .\n",
            "---\n",
            "Тирион поглядел на него .\n",
            "---\n",
            "Тирион поглядел на него .\n",
            "---\n",
            "Тирион поглядел на него .\n",
            "---\n",
            "Тирион поглядел на него .\n",
            "---\n"
          ],
          "name": "stdout"
        }
      ]
    },
    {
      "metadata": {
        "id": "8l31E9tBYvZL",
        "colab_type": "code",
        "outputId": "54cfef6b-082c-4933-bbce-713c407f54c8",
        "colab": {
          "base_uri": "https://localhost:8080/",
          "height": 187
        }
      },
      "cell_type": "code",
      "source": [
        "for i in range(5):\n",
        "    print(generates_sequence('И сказал', 100, use_temperature=True, temperature=5))\n",
        "    print('---')"
      ],
      "execution_count": 0,
      "outputs": [
        {
          "output_type": "stream",
          "text": [
            "И сказала , что он подумал , что он послал своего короля .\n",
            "---\n",
            "И сказала , что он не понимает , что он поднял ее .\n",
            "---\n",
            "И сказал , что он поглядел на него .\n",
            "---\n",
            "И сказал , что он поглядел на него .\n",
            "---\n",
            "И сказал , что он не понимает , что она посмотрела на него .\n",
            "---\n"
          ],
          "name": "stdout"
        }
      ]
    },
    {
      "metadata": {
        "id": "RmgTXLIShXnj",
        "colab_type": "code",
        "outputId": "b2f83115-9562-4d1f-c610-99c47c2427db",
        "colab": {
          "base_uri": "https://localhost:8080/",
          "height": 187
        }
      },
      "cell_type": "code",
      "source": [
        "for i in range(5):\n",
        "    print(generates_sequence('Ста', 100, use_temperature=True, temperature=3))\n",
        "    print('---')"
      ],
      "execution_count": 0,
      "outputs": [
        {
          "output_type": "stream",
          "text": [
            "Старки совершил ее .\n",
            "---\n",
            "Старки не смела подобраться с ней .\n",
            "---\n",
            "Старки не смелался со стол .\n",
            "---\n",
            "Старки поднял его .\n",
            "---\n",
            "Старки не смех .\n",
            "---\n"
          ],
          "name": "stdout"
        }
      ]
    },
    {
      "metadata": {
        "id": "_r82bVImZAdP",
        "colab_type": "text"
      },
      "cell_type": "markdown",
      "source": [
        "### Посмотрим на test"
      ]
    },
    {
      "metadata": {
        "id": "6g1n5HwGhIKX",
        "colab_type": "code",
        "outputId": "8ca4e726-0eba-4b67-c564-e26d4825e9cc",
        "colab": {
          "base_uri": "https://localhost:8080/",
          "height": 1717
        }
      },
      "cell_type": "code",
      "source": [
        "for i in range(50, 100):\n",
        "    print(generates_sequence(test[i][0:5], 100, use_temperature=True, temperature=3))\n",
        "    print('---')"
      ],
      "execution_count": 0,
      "outputs": [
        {
          "output_type": "stream",
          "text": [
            "– А ты порадует меня , – сказал он .\n",
            "---\n",
            "– спросила она .\n",
            "---\n",
            "– Мика , – сказала она .\n",
            "---\n",
            "Он узнал , что на него не становился с королевскому грамкинов .\n",
            "---\n",
            "– Миллистый , – сказал он .\n",
            "---\n",
            "– Это не совсем сердце .\n",
            "---\n",
            "– Мой сестра , – сказал он .\n",
            "---\n",
            "– Остаток из постели , – проговорил он .\n",
            "---\n",
            "– Сын , – сказал он .\n",
            "---\n",
            "– Джон , – сказал он .\n",
            "---\n",
            "– Возле столов , – сказал он .\n",
            "---\n",
            "– Последний день , – сказал он .\n",
            "---\n",
            "Мика .\n",
            "---\n",
            "Джоффри , подобает этого .\n",
            "---\n",
            "– Ну что ж , – сказал он .\n",
            "---\n",
            "– Она погладила ее .\n",
            "---\n",
            "– Сам убил ее .\n",
            "---\n",
            "Сансе со скорбной .\n",
            "---\n",
            "Вино , подобает меня , пока они посмотрела на него .\n",
            "---\n",
            "– Ты не сомневайся , – сказал он .\n",
            "---\n",
            "Мика , подобая своего коня .\n",
            "---\n",
            "Это не сомневайся .\n",
            "---\n",
            "– А ты почему ты не сомневается в этом .\n",
            "---\n",
            "– Джон , – проговорил он .\n",
            "---\n",
            "– Но так , – сказал он .\n",
            "---\n",
            "Или так , что не сомневается в этом .\n",
            "---\n",
            "– Яркань , – сказал он .\n",
            "---\n",
            "– Остальные , – сказал он .\n",
            "---\n",
            "– завоеванное стороны , – проговорил он .\n",
            "---\n",
            "Санса находилась в сторону .\n",
            "---\n",
            "– Я не хочу , чтобы проводиться в своих братьев .\n",
            "---\n",
            "Арья принималась к ней .\n",
            "---\n",
            "Санса не смогла в своих братьев .\n",
            "---\n",
            "Сестра все вокруг .\n",
            "---\n",
            "Деревья последовала себе со стола .\n",
            "---\n",
            "Джоффри , подобает меня , пока не сомневается с ним .\n",
            "---\n",
            "Мика , подобает это .\n",
            "---\n",
            "Арья посмотрела на нее .\n",
            "---\n",
            "Затылось , что принцесса , – проговорил Джон .\n",
            "---\n",
            "Санса находилась в своих браконьем .\n",
            "---\n",
            "– Но то , что нас не сомневается .\n",
            "---\n",
            "Арья покраснела .\n",
            "---\n",
            "Но вместе с ней .\n",
            "---\n",
            "– Предложить своего коня .\n",
            "---\n",
            "– визал его собственных ветер .\n",
            "---\n",
            "Джоффри , подобает меня .\n",
            "---\n",
            "Испуга , подобая своего коня .\n",
            "---\n",
            "Санса не смогла в своих братьев .\n",
            "---\n",
            "Она была слишком вороной .\n",
            "---\n",
            "Тут молчание .\n",
            "---\n"
          ],
          "name": "stdout"
        }
      ]
    },
    {
      "metadata": {
        "id": "Ft4_J6HEZE6H",
        "colab_type": "code",
        "outputId": "b88f2fb5-8bf3-4d3c-dda7-7ce33a1688d9",
        "colab": {
          "base_uri": "https://localhost:8080/",
          "height": 1717
        }
      },
      "cell_type": "code",
      "source": [
        "for i in range(50):\n",
        "    print(generates_sequence(test[i][0:5], 100, use_temperature=True, temperature=3))\n",
        "    print('---')"
      ],
      "execution_count": 0,
      "outputs": [
        {
          "output_type": "stream",
          "text": [
            "Воздух наполнял свое сестру .\n",
            "---\n",
            "Конь поднимали ее .\n",
            "---\n",
            "Да так и не посмотрел на него .\n",
            "---\n",
            "День , – проговорил он .\n",
            "---\n",
            "Они открытые камень .\n",
            "---\n",
            "Они поставили .\n",
            "---\n",
            "– Отец , – проговорил он .\n",
            "---\n",
            "– Моя мать , – проговорил он .\n",
            "---\n",
            "Поев из телохранители , – проговорил он .\n",
            "---\n",
            "Джоффри поглядел на него .\n",
            "---\n",
            "Голову , – проговорил он .\n",
            "---\n",
            "– А не поднимаю сестру , – проговорил он .\n",
            "---\n",
            "– спросил он .\n",
            "---\n",
            "– Сколько тебе не понимаете , что она поглядела на него .\n",
            "---\n",
            "– Положил ее , – проговорил он .\n",
            "---\n",
            "Там могу поставить ее , он подобает дома .\n",
            "---\n",
            "Он ударил ее .\n",
            "---\n",
            "– Джон Сноу , – покачал он .\n",
            "---\n",
            "– Потом , – покачала она .\n",
            "---\n",
            "Правда , – проговорил он .\n",
            "---\n",
            "А это не слышал .\n",
            "---\n",
            "Санса , – проговорил он .\n",
            "---\n",
            "– Не сомневаюсь , – покачал он .\n",
            "---\n",
            "– Джон наполовину решил , что он поглядел на него .\n",
            "---\n",
            "– Я хочу , чтобы показаться , – проговорил он .\n",
            "---\n",
            "– Джон направился к стене .\n",
            "---\n",
            "Шум своему служанки , он поглядел на него .\n",
            "---\n",
            "– Там , – сказал он .\n",
            "---\n",
            "– Со стены , – сказал он .\n",
            "---\n",
            "– Джон , – проговорил он .\n",
            "---\n",
            "Сталь , они поглядели на него .\n",
            "---\n",
            "– Нам подошел к ней , – проговорил он .\n",
            "---\n",
            "Там наполовину разглядев ее , он поглядел на него .\n",
            "---\n",
            "Мечи , он поглядел на него .\n",
            "---\n",
            "Мальчик , пока он поднимал с коня .\n",
            "---\n",
            "Девочка , который он поглядел на него .\n",
            "---\n",
            "Но когда она поглядела на него .\n",
            "---\n",
            "Девочка , он выпустил ее .\n",
            "---\n",
            "Принцесса , – проговорил он .\n",
            "---\n",
            "Мальчика , пока он поднимал ее .\n",
            "---\n",
            "Девочного последние камня .\n",
            "---\n",
            "– Арья , – проговорил он .\n",
            "---\n",
            "– не сомневаюсь , – проговорил он .\n",
            "---\n",
            "– Убиритствую тебя , – проговорил он .\n",
            "---\n",
            "– Что ты делаешь , – проговорил он .\n",
            "---\n",
            "Оставило его .\n",
            "---\n",
            "Джоффри , – проговорил он .\n",
            "---\n",
            "– Это не совершал ее .\n",
            "---\n",
            "– Санса , – проговорил он .\n",
            "---\n",
            "Принца .\n",
            "---\n"
          ],
          "name": "stdout"
        }
      ]
    },
    {
      "metadata": {
        "id": "y-XL3RI7RCRV",
        "colab_type": "text"
      },
      "cell_type": "markdown",
      "source": [
        "## Спеллчекер (1 балла)\n",
        "\n",
        "Из языковой модели можно сделать простенький спеллчекер: можно визуализировать лоссы на каждом символе.\n",
        "\n",
        "Бонус: можете усреднить перплексии по словам и выделять их, а не отдельные символы."
      ]
    },
    {
      "metadata": {
        "id": "tIAProJF_CJ9",
        "colab_type": "code",
        "outputId": "18292edb-433b-4a2e-8420-63ec42f58c26",
        "colab": {
          "base_uri": "https://localhost:8080/",
          "height": 91
        }
      },
      "cell_type": "code",
      "source": [
        "loss_func = nn.CrossEntropyLoss(ignore_index=tokenizer.char2idx['<PAD>'], reduce=False)"
      ],
      "execution_count": 0,
      "outputs": [
        {
          "output_type": "stream",
          "text": [
            "/usr/local/lib/python3.6/dist-packages/torch/nn/functional.py:52: UserWarning: size_average and reduce args will be deprecated, please use reduction='none' instead.\n",
            "  warnings.warn(warning.format(ret))\n"
          ],
          "name": "stderr"
        }
      ]
    },
    {
      "metadata": {
        "id": "eEQ9dgBuRChu",
        "colab_type": "code",
        "colab": {}
      },
      "cell_type": "code",
      "source": [
        "from IPython.core.display import display, HTML\n",
        "\n",
        "def print_colored(sequence, intensities, delimeter=''):\n",
        "    html = delimeter.join([\n",
        "        f'<span style=\"background: rgb({255}, {255-x}, {255-x})\">{c}</span>'\n",
        "        for c, x in zip(sequence, intensities) \n",
        "    ])\n",
        "    display(HTML(html))"
      ],
      "execution_count": 0,
      "outputs": []
    },
    {
      "metadata": {
        "id": "1STCSXTLb1ov",
        "colab_type": "code",
        "colab": {}
      },
      "cell_type": "code",
      "source": [
        "def spellcheck(sequence):\n",
        "    \n",
        "    tokenized_sequence = tokenizer.tokenize_first(sequence, fit=False)\n",
        "    \n",
        "    sequence_input = tokenized_sequence[:-1]\n",
        "    sequence_target = tokenized_sequence[1:]\n",
        "    \n",
        "    input_pad = np.array([tokenizer.pad_tokenized(sequence_input)])\n",
        "    target_pad = np.array([tokenizer.pad_tokenized(sequence_target)])\n",
        "    \n",
        "    input_var = Variable(torch.cuda.LongTensor(input_pad))\n",
        "    \n",
        "    output, _ = lm(input_var, lengths(input_pad), \n",
        "                     lm.initLM(len(input_pad)) ,\n",
        "                     use_temperature = False)\n",
        "    \n",
        "    flatten_output = output.contiguous()\n",
        "    flatten_output = flatten_output.view(-1, vocab_size)\n",
        "    flatten_target = Variable(torch.cuda.LongTensor(target_pad.flatten()))\n",
        "    loss = loss_func(flatten_output, flatten_target)\n",
        "    loss = loss.tolist()\n",
        "    \n",
        "    cleared_loss = loss[0:len(sequence)]\n",
        "    \n",
        "    print_colored(sequence, np.array(cleared_loss)*10)\n",
        "    "
      ],
      "execution_count": 0,
      "outputs": []
    },
    {
      "metadata": {
        "id": "4LlUQN36-E3B",
        "colab_type": "text"
      },
      "cell_type": "markdown",
      "source": [
        "### Посмотрим на общих предложениях"
      ]
    },
    {
      "metadata": {
        "id": "smIXviH9b6FN",
        "colab_type": "code",
        "outputId": "35e9960b-33a4-418f-f76e-9a36edbf9566",
        "colab": {
          "base_uri": "https://localhost:8080/",
          "height": 153
        }
      },
      "cell_type": "code",
      "source": [
        "sequences = ['В этом претложениии очен много очепяток .', \n",
        "             'Здесь появилась лишнняя буква .', \n",
        "             'В этом предложении все нормально .', \n",
        "             'Чтонибудь пишеться чериз дефис .', \n",
        "             'Слова нрпдзх не сущесдвует .',\n",
        "             'Кейтилин .',\n",
        "            'Налейте мне экспрессо .',\n",
        "             'Эту домашку нужно сдать втечении двух недель .'\n",
        "            ]\n",
        "\n",
        "for sequence in sequences:\n",
        "  losses = spellcheck(sequence)"
      ],
      "execution_count": 0,
      "outputs": [
        {
          "output_type": "display_data",
          "data": {
            "text/html": [
              "<span style=\"background: rgb(255, 226.38361930847168, 226.38361930847168)\">В</span><span style=\"background: rgb(255, 239.37556266784668, 239.37556266784668)\"> </span><span style=\"background: rgb(255, 239.7752583026886, 239.7752583026886)\">э</span><span style=\"background: rgb(255, 254.71834745258093, 254.71834745258093)\">т</span><span style=\"background: rgb(255, 253.53022575378418, 253.53022575378418)\">о</span><span style=\"background: rgb(255, 251.40779972076416, 251.40779972076416)\">м</span><span style=\"background: rgb(255, 254.96362871257588, 254.96362871257588)\"> </span><span style=\"background: rgb(255, 233.1787610054016, 233.1787610054016)\">п</span><span style=\"background: rgb(255, 252.22002536058426, 252.22002536058426)\">р</span><span style=\"background: rgb(255, 238.82566213607788, 238.82566213607788)\">е</span><span style=\"background: rgb(255, 191.32503986358643, 191.32503986358643)\">т</span><span style=\"background: rgb(255, 184.54322814941406, 184.54322814941406)\">л</span><span style=\"background: rgb(255, 250.48776805400848, 250.48776805400848)\">о</span><span style=\"background: rgb(255, 244.15818691253662, 244.15818691253662)\">ж</span><span style=\"background: rgb(255, 253.72993513941765, 253.72993513941765)\">е</span><span style=\"background: rgb(255, 254.1508537530899, 254.1508537530899)\">н</span><span style=\"background: rgb(255, 254.88596617244184, 254.88596617244184)\">и</span><span style=\"background: rgb(255, 204.30585861206055, 204.30585861206055)\">и</span><span style=\"background: rgb(255, 143.7915325164795, 143.7915325164795)\">и</span><span style=\"background: rgb(255, 254.98860174557194, 254.98860174557194)\"> </span><span style=\"background: rgb(255, 230.28152227401733, 230.28152227401733)\">о</span><span style=\"background: rgb(255, 205.85426807403564, 205.85426807403564)\">ч</span><span style=\"background: rgb(255, 245.0260490179062, 245.0260490179062)\">е</span><span style=\"background: rgb(255, 247.91434347629547, 247.91434347629547)\">н</span><span style=\"background: rgb(255, 174.67730522155762, 174.67730522155762)\"> </span><span style=\"background: rgb(255, 203.23736190795898, 203.23736190795898)\">м</span><span style=\"background: rgb(255, 216.75325870513916, 216.75325870513916)\">н</span><span style=\"background: rgb(255, 254.70030210912228, 254.70030210912228)\">о</span><span style=\"background: rgb(255, 252.10350275039673, 252.10350275039673)\">г</span><span style=\"background: rgb(255, 254.70472475513816, 254.70472475513816)\">о</span><span style=\"background: rgb(255, 253.0846782028675, 253.0846782028675)\"> </span><span style=\"background: rgb(255, 229.36428546905518, 229.36428546905518)\">о</span><span style=\"background: rgb(255, 223.94891500473022, 223.94891500473022)\">ч</span><span style=\"background: rgb(255, 249.1921502351761, 249.1921502351761)\">е</span><span style=\"background: rgb(255, 168.17755699157715, 168.17755699157715)\">п</span><span style=\"background: rgb(255, 172.57563591003418, 172.57563591003418)\">я</span><span style=\"background: rgb(255, 254.2823202162981, 254.2823202162981)\">т</span><span style=\"background: rgb(255, 198.00461769104004, 198.00461769104004)\">о</span><span style=\"background: rgb(255, 197.79234886169434, 197.79234886169434)\">к</span><span style=\"background: rgb(255, 254.9345103278756, 254.9345103278756)\"> </span><span style=\"background: rgb(255, 240.65548181533813, 240.65548181533813)\">.</span>"
            ],
            "text/plain": [
              "<IPython.core.display.HTML object>"
            ]
          },
          "metadata": {
            "tags": []
          }
        },
        {
          "output_type": "display_data",
          "data": {
            "text/html": [
              "<span style=\"background: rgb(255, 212.84549236297607, 212.84549236297607)\">З</span><span style=\"background: rgb(255, 227.63057231903076, 227.63057231903076)\">д</span><span style=\"background: rgb(255, 254.9596303049475, 254.9596303049475)\">е</span><span style=\"background: rgb(255, 253.88356670737267, 253.88356670737267)\">с</span><span style=\"background: rgb(255, 254.9915158987278, 254.9915158987278)\">ь</span><span style=\"background: rgb(255, 254.80147605761886, 254.80147605761886)\"> </span><span style=\"background: rgb(255, 233.71777772903442, 233.71777772903442)\">п</span><span style=\"background: rgb(255, 247.58681178092957, 247.58681178092957)\">о</span><span style=\"background: rgb(255, 205.41796684265137, 205.41796684265137)\">я</span><span style=\"background: rgb(255, 235.28552293777466, 235.28552293777466)\">в</span><span style=\"background: rgb(255, 254.5674467459321, 254.5674467459321)\">и</span><span style=\"background: rgb(255, 252.84579873085022, 252.84579873085022)\">л</span><span style=\"background: rgb(255, 222.5209903717041, 222.5209903717041)\">а</span><span style=\"background: rgb(255, 254.8610726557672, 254.8610726557672)\">с</span><span style=\"background: rgb(255, 254.9978449282935, 254.9978449282935)\">ь</span><span style=\"background: rgb(255, 254.99863037912291, 254.99863037912291)\"> </span><span style=\"background: rgb(255, 205.00754833221436, 205.00754833221436)\">л</span><span style=\"background: rgb(255, 248.54486465454102, 248.54486465454102)\">и</span><span style=\"background: rgb(255, 241.65995717048645, 241.65995717048645)\">ш</span><span style=\"background: rgb(255, 145.2015209197998, 145.2015209197998)\">н</span><span style=\"background: rgb(255, 169.25060272216797, 169.25060272216797)\">н</span><span style=\"background: rgb(255, 182.2175931930542, 182.2175931930542)\">я</span><span style=\"background: rgb(255, 253.14987301826477, 253.14987301826477)\">я</span><span style=\"background: rgb(255, 254.99510646390263, 254.99510646390263)\"> </span><span style=\"background: rgb(255, 214.4754981994629, 214.4754981994629)\">б</span><span style=\"background: rgb(255, 246.60240590572357, 246.60240590572357)\">у</span><span style=\"background: rgb(255, 244.12835836410522, 244.12835836410522)\">к</span><span style=\"background: rgb(255, 242.9057478904724, 242.9057478904724)\">в</span><span style=\"background: rgb(255, 254.86798196099699, 254.86798196099699)\">а</span><span style=\"background: rgb(255, 217.7120566368103, 217.7120566368103)\"> </span><span style=\"background: rgb(255, 232.56028175354004, 232.56028175354004)\">.</span>"
            ],
            "text/plain": [
              "<IPython.core.display.HTML object>"
            ]
          },
          "metadata": {
            "tags": []
          }
        },
        {
          "output_type": "display_data",
          "data": {
            "text/html": [
              "<span style=\"background: rgb(255, 226.1075210571289, 226.1075210571289)\">В</span><span style=\"background: rgb(255, 240.3288221359253, 240.3288221359253)\"> </span><span style=\"background: rgb(255, 240.32091975212097, 240.32091975212097)\">э</span><span style=\"background: rgb(255, 254.77272629737854, 254.77272629737854)\">т</span><span style=\"background: rgb(255, 253.44779804348946, 253.44779804348946)\">о</span><span style=\"background: rgb(255, 245.91640889644623, 245.91640889644623)\">м</span><span style=\"background: rgb(255, 254.88158165477216, 254.88158165477216)\"> </span><span style=\"background: rgb(255, 232.1957492828369, 232.1957492828369)\">п</span><span style=\"background: rgb(255, 252.15788155794144, 252.15788155794144)\">р</span><span style=\"background: rgb(255, 235.45876741409302, 235.45876741409302)\">е</span><span style=\"background: rgb(255, 251.88268184661865, 251.88268184661865)\">д</span><span style=\"background: rgb(255, 235.12822031974792, 235.12822031974792)\">л</span><span style=\"background: rgb(255, 245.5923342704773, 245.5923342704773)\">о</span><span style=\"background: rgb(255, 254.90568668581545, 254.90568668581545)\">ж</span><span style=\"background: rgb(255, 240.89733004570007, 240.89733004570007)\">е</span><span style=\"background: rgb(255, 254.92366436868906, 254.92366436868906)\">н</span><span style=\"background: rgb(255, 254.8509307950735, 254.8509307950735)\">и</span><span style=\"background: rgb(255, 201.5413236618042, 201.5413236618042)\">и</span><span style=\"background: rgb(255, 254.99317759589758, 254.99317759589758)\"> </span><span style=\"background: rgb(255, 218.949613571167, 218.949613571167)\">в</span><span style=\"background: rgb(255, 225.39538621902466, 225.39538621902466)\">с</span><span style=\"background: rgb(255, 251.23503625392914, 251.23503625392914)\">е</span><span style=\"background: rgb(255, 253.7071393430233, 253.7071393430233)\"> </span><span style=\"background: rgb(255, 224.66387510299683, 224.66387510299683)\">н</span><span style=\"background: rgb(255, 225.3851056098938, 225.3851056098938)\">о</span><span style=\"background: rgb(255, 203.41108322143555, 203.41108322143555)\">р</span><span style=\"background: rgb(255, 199.89541053771973, 199.89541053771973)\">м</span><span style=\"background: rgb(255, 233.18952798843384, 233.18952798843384)\">а</span><span style=\"background: rgb(255, 249.03043031692505, 249.03043031692505)\">л</span><span style=\"background: rgb(255, 223.2559108734131, 223.2559108734131)\">ь</span><span style=\"background: rgb(255, 244.21865820884705, 244.21865820884705)\">н</span><span style=\"background: rgb(255, 252.0345574617386, 252.0345574617386)\">о</span><span style=\"background: rgb(255, 231.1231780052185, 231.1231780052185)\"> </span><span style=\"background: rgb(255, 223.01833868026733, 223.01833868026733)\">.</span>"
            ],
            "text/plain": [
              "<IPython.core.display.HTML object>"
            ]
          },
          "metadata": {
            "tags": []
          }
        },
        {
          "output_type": "display_data",
          "data": {
            "text/html": [
              "<span style=\"background: rgb(255, 202.90273666381836, 202.90273666381836)\">Ч</span><span style=\"background: rgb(255, 240.8736753463745, 240.8736753463745)\">т</span><span style=\"background: rgb(255, 254.95256130583584, 254.95256130583584)\">о</span><span style=\"background: rgb(255, 162.08136558532715, 162.08136558532715)\">н</span><span style=\"background: rgb(255, 183.23017120361328, 183.23017120361328)\">и</span><span style=\"background: rgb(255, 181.6671657562256, 181.6671657562256)\">б</span><span style=\"background: rgb(255, 230.25659799575806, 230.25659799575806)\">у</span><span style=\"background: rgb(255, 146.7632007598877, 146.7632007598877)\">д</span><span style=\"background: rgb(255, 247.13565587997437, 247.13565587997437)\">ь</span><span style=\"background: rgb(255, 254.9880861712154, 254.9880861712154)\"> </span><span style=\"background: rgb(255, 237.15826153755188, 237.15826153755188)\">п</span><span style=\"background: rgb(255, 194.97668266296387, 194.97668266296387)\">и</span><span style=\"background: rgb(255, 217.71111011505127, 217.71111011505127)\">ш</span><span style=\"background: rgb(255, 241.90653562545776, 241.90653562545776)\">е</span><span style=\"background: rgb(255, 239.7368562221527, 239.7368562221527)\">т</span><span style=\"background: rgb(255, 163.595552444458, 163.595552444458)\">ь</span><span style=\"background: rgb(255, 242.14873552322388, 242.14873552322388)\">с</span><span style=\"background: rgb(255, 254.98156102839857, 254.98156102839857)\">я</span><span style=\"background: rgb(255, 254.99963284211844, 254.99963284211844)\"> </span><span style=\"background: rgb(255, 201.3612174987793, 201.3612174987793)\">ч</span><span style=\"background: rgb(255, 245.23253500461578, 245.23253500461578)\">е</span><span style=\"background: rgb(255, 248.25157582759857, 248.25157582759857)\">р</span><span style=\"background: rgb(255, 185.86832523345947, 185.86832523345947)\">и</span><span style=\"background: rgb(255, 250.7451367378235, 250.7451367378235)\">з</span><span style=\"background: rgb(255, 244.40770387649536, 244.40770387649536)\"> </span><span style=\"background: rgb(255, 224.1387414932251, 224.1387414932251)\">д</span><span style=\"background: rgb(255, 223.63181829452515, 223.63181829452515)\">е</span><span style=\"background: rgb(255, 185.4464054107666, 185.4464054107666)\">ф</span><span style=\"background: rgb(255, 209.3692111968994, 209.3692111968994)\">и</span><span style=\"background: rgb(255, 179.52712535858154, 179.52712535858154)\">с</span><span style=\"background: rgb(255, 195.19314765930176, 195.19314765930176)\"> </span><span style=\"background: rgb(255, 238.4444236755371, 238.4444236755371)\">.</span>"
            ],
            "text/plain": [
              "<IPython.core.display.HTML object>"
            ]
          },
          "metadata": {
            "tags": []
          }
        },
        {
          "output_type": "display_data",
          "data": {
            "text/html": [
              "<span style=\"background: rgb(255, 226.04161739349365, 226.04161739349365)\">С</span><span style=\"background: rgb(255, 237.82794713974, 237.82794713974)\">л</span><span style=\"background: rgb(255, 249.1668140888214, 249.1668140888214)\">о</span><span style=\"background: rgb(255, 253.50485131144524, 253.50485131144524)\">в</span><span style=\"background: rgb(255, 253.72937873005867, 253.72937873005867)\">а</span><span style=\"background: rgb(255, 254.59618624299765, 254.59618624299765)\"> </span><span style=\"background: rgb(255, 228.54133129119873, 228.54133129119873)\">н</span><span style=\"background: rgb(255, 177.94158458709717, 177.94158458709717)\">р</span><span style=\"background: rgb(255, 97.43335723876953, 97.43335723876953)\">п</span><span style=\"background: rgb(255, 164.13677215576172, 164.13677215576172)\">д</span><span style=\"background: rgb(255, 141.79866790771484, 141.79866790771484)\">з</span><span style=\"background: rgb(255, 154.19544219970703, 154.19544219970703)\">х</span><span style=\"background: rgb(255, 252.3742213845253, 252.3742213845253)\"> </span><span style=\"background: rgb(255, 234.94389057159424, 234.94389057159424)\">н</span><span style=\"background: rgb(255, 253.34130465984344, 253.34130465984344)\">е</span><span style=\"background: rgb(255, 226.94591522216797, 226.94591522216797)\"> </span><span style=\"background: rgb(255, 239.15102362632751, 239.15102362632751)\">с</span><span style=\"background: rgb(255, 221.8791151046753, 221.8791151046753)\">у</span><span style=\"background: rgb(255, 239.04083967208862, 239.04083967208862)\">щ</span><span style=\"background: rgb(255, 254.70707340165973, 254.70707340165973)\">е</span><span style=\"background: rgb(255, 254.1070570796728, 254.1070570796728)\">с</span><span style=\"background: rgb(255, 118.25149536132812, 118.25149536132812)\">д</span><span style=\"background: rgb(255, 189.8493194580078, 189.8493194580078)\">в</span><span style=\"background: rgb(255, 233.7957501411438, 233.7957501411438)\">у</span><span style=\"background: rgb(255, 226.63198232650757, 226.63198232650757)\">е</span><span style=\"background: rgb(255, 254.1872689127922, 254.1872689127922)\">т</span><span style=\"background: rgb(255, 254.96424993267283, 254.96424993267283)\"> </span><span style=\"background: rgb(255, 248.18277955055237, 248.18277955055237)\">.</span>"
            ],
            "text/plain": [
              "<IPython.core.display.HTML object>"
            ]
          },
          "metadata": {
            "tags": []
          }
        },
        {
          "output_type": "display_data",
          "data": {
            "text/html": [
              "<span style=\"background: rgb(255, 219.8643183708191, 219.8643183708191)\">К</span><span style=\"background: rgb(255, 242.85749673843384, 242.85749673843384)\">е</span><span style=\"background: rgb(255, 254.85633357428014, 254.85633357428014)\">й</span><span style=\"background: rgb(255, 254.9724826682359, 254.9724826682359)\">т</span><span style=\"background: rgb(255, 254.9986494499899, 254.9986494499899)\">и</span><span style=\"background: rgb(255, 254.98420175747015, 254.98420175747015)\">л</span><span style=\"background: rgb(255, 254.9919744755607, 254.9919744755607)\">и</span><span style=\"background: rgb(255, 254.97391767334193, 254.97391767334193)\">н</span><span style=\"background: rgb(255, 254.99834074435057, 254.99834074435057)\"> </span><span style=\"background: rgb(255, 192.3599147796631, 192.3599147796631)\">.</span>"
            ],
            "text/plain": [
              "<IPython.core.display.HTML object>"
            ]
          },
          "metadata": {
            "tags": []
          }
        },
        {
          "output_type": "display_data",
          "data": {
            "text/html": [
              "<span style=\"background: rgb(255, 226.96547508239746, 226.96547508239746)\">Н</span><span style=\"background: rgb(255, 239.76603746414185, 239.76603746414185)\">а</span><span style=\"background: rgb(255, 195.12742042541504, 195.12742042541504)\">л</span><span style=\"background: rgb(255, 240.16796827316284, 240.16796827316284)\">е</span><span style=\"background: rgb(255, 175.27169227600098, 175.27169227600098)\">й</span><span style=\"background: rgb(255, 205.67177295684814, 205.67177295684814)\">т</span><span style=\"background: rgb(255, 241.4837670326233, 241.4837670326233)\">е</span><span style=\"background: rgb(255, 199.1712188720703, 199.1712188720703)\"> </span><span style=\"background: rgb(255, 223.90249013900757, 223.90249013900757)\">м</span><span style=\"background: rgb(255, 235.30269265174866, 235.30269265174866)\">н</span><span style=\"background: rgb(255, 240.03211975097656, 240.03211975097656)\">е</span><span style=\"background: rgb(255, 254.95985589455813, 254.95985589455813)\"> </span><span style=\"background: rgb(255, 217.27456092834473, 217.27456092834473)\">э</span><span style=\"background: rgb(255, 193.54912281036377, 193.54912281036377)\">к</span><span style=\"background: rgb(255, 165.46550750732422, 165.46550750732422)\">с</span><span style=\"background: rgb(255, 170.22832870483398, 170.22832870483398)\">п</span><span style=\"background: rgb(255, 207.81673431396484, 207.81673431396484)\">р</span><span style=\"background: rgb(255, 222.31268167495728, 222.31268167495728)\">е</span><span style=\"background: rgb(255, 186.5528106689453, 186.5528106689453)\">с</span><span style=\"background: rgb(255, 176.65420055389404, 176.65420055389404)\">с</span><span style=\"background: rgb(255, 221.28939628601074, 221.28939628601074)\">о</span><span style=\"background: rgb(255, 211.97893619537354, 211.97893619537354)\"> </span><span style=\"background: rgb(255, 237.8895080089569, 237.8895080089569)\">.</span>"
            ],
            "text/plain": [
              "<IPython.core.display.HTML object>"
            ]
          },
          "metadata": {
            "tags": []
          }
        },
        {
          "output_type": "display_data",
          "data": {
            "text/html": [
              "<span style=\"background: rgb(255, 212.98151016235352, 212.98151016235352)\">Э</span><span style=\"background: rgb(255, 252.61477336287498, 252.61477336287498)\">т</span><span style=\"background: rgb(255, 200.56286811828613, 200.56286811828613)\">у</span><span style=\"background: rgb(255, 254.88437640480697, 254.88437640480697)\"> </span><span style=\"background: rgb(255, 222.510404586792, 222.510404586792)\">д</span><span style=\"background: rgb(255, 248.08112919330597, 248.08112919330597)\">о</span><span style=\"background: rgb(255, 218.82644653320312, 218.82644653320312)\">м</span><span style=\"background: rgb(255, 243.46336007118225, 243.46336007118225)\">а</span><span style=\"background: rgb(255, 177.5484800338745, 177.5484800338745)\">ш</span><span style=\"background: rgb(255, 226.00073337554932, 226.00073337554932)\">к</span><span style=\"background: rgb(255, 176.9388484954834, 176.9388484954834)\">у</span><span style=\"background: rgb(255, 254.99699995212723, 254.99699995212723)\"> </span><span style=\"background: rgb(255, 218.3416509628296, 218.3416509628296)\">н</span><span style=\"background: rgb(255, 182.6294231414795, 182.6294231414795)\">у</span><span style=\"background: rgb(255, 245.42505085468292, 245.42505085468292)\">ж</span><span style=\"background: rgb(255, 254.24376614391804, 254.24376614391804)\">н</span><span style=\"background: rgb(255, 245.33248126506805, 245.33248126506805)\">о</span><span style=\"background: rgb(255, 254.04169961810112, 254.04169961810112)\"> </span><span style=\"background: rgb(255, 237.4450719356537, 237.4450719356537)\">с</span><span style=\"background: rgb(255, 228.52383852005005, 228.52383852005005)\">д</span><span style=\"background: rgb(255, 211.25673294067383, 211.25673294067383)\">а</span><span style=\"background: rgb(255, 242.7307093143463, 242.7307093143463)\">т</span><span style=\"background: rgb(255, 254.93418464902788, 254.93418464902788)\">ь</span><span style=\"background: rgb(255, 225.062837600708, 225.062837600708)\"> </span><span style=\"background: rgb(255, 235.55088877677917, 235.55088877677917)\">в</span><span style=\"background: rgb(255, 193.41387271881104, 193.41387271881104)\">т</span><span style=\"background: rgb(255, 216.106858253479, 216.106858253479)\">е</span><span style=\"background: rgb(255, 202.75561332702637, 202.75561332702637)\">ч</span><span style=\"background: rgb(255, 254.42125514149666, 254.42125514149666)\">е</span><span style=\"background: rgb(255, 252.52068012952805, 252.52068012952805)\">н</span><span style=\"background: rgb(255, 254.953026403673, 254.953026403673)\">и</span><span style=\"background: rgb(255, 221.0982346534729, 221.0982346534729)\">и</span><span style=\"background: rgb(255, 254.998498075729, 254.998498075729)\"> </span><span style=\"background: rgb(255, 215.47132015228271, 215.47132015228271)\">д</span><span style=\"background: rgb(255, 220.6481671333313, 220.6481671333313)\">в</span><span style=\"background: rgb(255, 235.67813873291016, 235.67813873291016)\">у</span><span style=\"background: rgb(255, 253.37943702936172, 253.37943702936172)\">х</span><span style=\"background: rgb(255, 254.11427289247513, 254.11427289247513)\"> </span><span style=\"background: rgb(255, 224.56377506256104, 224.56377506256104)\">н</span><span style=\"background: rgb(255, 234.71423149108887, 234.71423149108887)\">е</span><span style=\"background: rgb(255, 239.02723789215088, 239.02723789215088)\">д</span><span style=\"background: rgb(255, 252.9055854678154, 252.9055854678154)\">е</span><span style=\"background: rgb(255, 254.85890029929578, 254.85890029929578)\">л</span><span style=\"background: rgb(255, 205.1811933517456, 205.1811933517456)\">ь</span><span style=\"background: rgb(255, 254.00652319192886, 254.00652319192886)\"> </span><span style=\"background: rgb(255, 241.85014724731445, 241.85014724731445)\">.</span>"
            ],
            "text/plain": [
              "<IPython.core.display.HTML object>"
            ]
          },
          "metadata": {
            "tags": []
          }
        }
      ]
    },
    {
      "metadata": {
        "id": "GW8icJC29pEr",
        "colab_type": "text"
      },
      "cell_type": "markdown",
      "source": [
        "### Посмотрим на специальных предложениях в духе Игры Престолов"
      ]
    },
    {
      "metadata": {
        "id": "6Y9TrJaf_rH-",
        "colab_type": "code",
        "outputId": "f2c37d53-54b2-4c1f-c19c-4c8ca1a9f8e1",
        "colab": {
          "base_uri": "https://localhost:8080/",
          "height": 204
        }
      },
      "cell_type": "code",
      "source": [
        "sequences = ['Кейтелен .',\n",
        "             'Тереон .',\n",
        "             'И скозал он .',\n",
        "             'По маему .',\n",
        "             'Посторался .',\n",
        "             'Ведела .',\n",
        "             'И сказал : – По моему , не понимаешь , что он постарался .',\n",
        "             '– Джон уже не слышал .',\n",
        "             '– Не сомневайся , – проговорил Нед .',\n",
        "             '– Я хочу посмотреть , что он поставил его .',\n",
        "             'Джоффри , – проговорил он .'\n",
        "            ]\n",
        "\n",
        "for sequence in sequences:\n",
        "  losses = spellcheck(sequence)"
      ],
      "execution_count": 0,
      "outputs": [
        {
          "output_type": "display_data",
          "data": {
            "text/html": [
              "<span style=\"background: rgb(255, 220.24199724197388, 220.24199724197388)\">К</span><span style=\"background: rgb(255, 244.38762068748474, 244.38762068748474)\">е</span><span style=\"background: rgb(255, 254.75927723571658, 254.75927723571658)\">й</span><span style=\"background: rgb(255, 254.97653854545206, 254.97653854545206)\">т</span><span style=\"background: rgb(255, 135.81257820129395, 135.81257820129395)\">е</span><span style=\"background: rgb(255, 254.91655571386218, 254.91655571386218)\">л</span><span style=\"background: rgb(255, 163.0978012084961, 163.0978012084961)\">е</span><span style=\"background: rgb(255, 227.38376379013062, 227.38376379013062)\">н</span><span style=\"background: rgb(255, 233.57930183410645, 233.57930183410645)\"> </span><span style=\"background: rgb(255, 209.15136337280273, 209.15136337280273)\">.</span>"
            ],
            "text/plain": [
              "<IPython.core.display.HTML object>"
            ]
          },
          "metadata": {
            "tags": []
          }
        },
        {
          "output_type": "display_data",
          "data": {
            "text/html": [
              "<span style=\"background: rgb(255, 221.84340000152588, 221.84340000152588)\">Т</span><span style=\"background: rgb(255, 240.8767020702362, 240.8767020702362)\">е</span><span style=\"background: rgb(255, 214.3974781036377, 214.3974781036377)\">р</span><span style=\"background: rgb(255, 217.93240547180176, 217.93240547180176)\">е</span><span style=\"background: rgb(255, 197.85645961761475, 197.85645961761475)\">о</span><span style=\"background: rgb(255, 241.54806852340698, 241.54806852340698)\">н</span><span style=\"background: rgb(255, 254.24014702439308, 254.24014702439308)\"> </span><span style=\"background: rgb(255, 190.87890625, 190.87890625)\">.</span>"
            ],
            "text/plain": [
              "<IPython.core.display.HTML object>"
            ]
          },
          "metadata": {
            "tags": []
          }
        },
        {
          "output_type": "display_data",
          "data": {
            "text/html": [
              "<span style=\"background: rgb(255, 218.24234008789062, 218.24234008789062)\">И</span><span style=\"background: rgb(255, 246.1743175983429, 246.1743175983429)\"> </span><span style=\"background: rgb(255, 232.43661403656006, 232.43661403656006)\">с</span><span style=\"background: rgb(255, 233.63391876220703, 233.63391876220703)\">к</span><span style=\"background: rgb(255, 248.19166123867035, 248.19166123867035)\">о</span><span style=\"background: rgb(255, 147.84727096557617, 147.84727096557617)\">з</span><span style=\"background: rgb(255, 225.28148651123047, 225.28148651123047)\">а</span><span style=\"background: rgb(255, 239.66198444366455, 239.66198444366455)\">л</span><span style=\"background: rgb(255, 253.9271192997694, 253.9271192997694)\"> </span><span style=\"background: rgb(255, 233.14026832580566, 233.14026832580566)\">о</span><span style=\"background: rgb(255, 234.9772596359253, 234.9772596359253)\">н</span><span style=\"background: rgb(255, 254.08569015562534, 254.08569015562534)\"> </span><span style=\"background: rgb(255, 228.54393005371094, 228.54393005371094)\">.</span>"
            ],
            "text/plain": [
              "<IPython.core.display.HTML object>"
            ]
          },
          "metadata": {
            "tags": []
          }
        },
        {
          "output_type": "display_data",
          "data": {
            "text/html": [
              "<span style=\"background: rgb(255, 224.22581911087036, 224.22581911087036)\">П</span><span style=\"background: rgb(255, 244.4493055343628, 244.4493055343628)\">о</span><span style=\"background: rgb(255, 216.02832794189453, 216.02832794189453)\"> </span><span style=\"background: rgb(255, 225.6545352935791, 225.6545352935791)\">м</span><span style=\"background: rgb(255, 222.53055095672607, 222.53055095672607)\">а</span><span style=\"background: rgb(255, 206.66800498962402, 206.66800498962402)\">е</span><span style=\"background: rgb(255, 203.8418674468994, 203.8418674468994)\">м</span><span style=\"background: rgb(255, 185.6627607345581, 185.6627607345581)\">у</span><span style=\"background: rgb(255, 249.2594462633133, 249.2594462633133)\"> </span><span style=\"background: rgb(255, 203.83895874023438, 203.83895874023438)\">.</span>"
            ],
            "text/plain": [
              "<IPython.core.display.HTML object>"
            ]
          },
          "metadata": {
            "tags": []
          }
        },
        {
          "output_type": "display_data",
          "data": {
            "text/html": [
              "<span style=\"background: rgb(255, 223.77410411834717, 223.77410411834717)\">П</span><span style=\"background: rgb(255, 245.09322881698608, 245.09322881698608)\">о</span><span style=\"background: rgb(255, 239.75814819335938, 239.75814819335938)\">с</span><span style=\"background: rgb(255, 232.0493221282959, 232.0493221282959)\">т</span><span style=\"background: rgb(255, 245.66015541553497, 245.66015541553497)\">о</span><span style=\"background: rgb(255, 242.66855239868164, 242.66855239868164)\">р</span><span style=\"background: rgb(255, 218.72124195098877, 218.72124195098877)\">а</span><span style=\"background: rgb(255, 204.70777034759521, 204.70777034759521)\">л</span><span style=\"background: rgb(255, 241.4144802093506, 241.4144802093506)\">с</span><span style=\"background: rgb(255, 254.98514564009383, 254.98514564009383)\">я</span><span style=\"background: rgb(255, 254.9995958886575, 254.9995958886575)\"> </span><span style=\"background: rgb(255, 212.68292427062988, 212.68292427062988)\">.</span>"
            ],
            "text/plain": [
              "<IPython.core.display.HTML object>"
            ]
          },
          "metadata": {
            "tags": []
          }
        },
        {
          "output_type": "display_data",
          "data": {
            "text/html": [
              "<span style=\"background: rgb(255, 226.20159149169922, 226.20159149169922)\">В</span><span style=\"background: rgb(255, 227.5091791152954, 227.5091791152954)\">е</span><span style=\"background: rgb(255, 235.637469291687, 235.637469291687)\">д</span><span style=\"background: rgb(255, 204.85543727874756, 204.85543727874756)\">е</span><span style=\"background: rgb(255, 253.43126609921455, 253.43126609921455)\">л</span><span style=\"background: rgb(255, 248.01614105701447, 248.01614105701447)\">а</span><span style=\"background: rgb(255, 248.5425364971161, 248.5425364971161)\"> </span><span style=\"background: rgb(255, 203.37698936462402, 203.37698936462402)\">.</span>"
            ],
            "text/plain": [
              "<IPython.core.display.HTML object>"
            ]
          },
          "metadata": {
            "tags": []
          }
        },
        {
          "output_type": "display_data",
          "data": {
            "text/html": [
              "<span style=\"background: rgb(255, 218.37775230407715, 218.37775230407715)\">И</span><span style=\"background: rgb(255, 248.10217201709747, 248.10217201709747)\"> </span><span style=\"background: rgb(255, 229.9520468711853, 229.9520468711853)\">с</span><span style=\"background: rgb(255, 228.89023780822754, 228.89023780822754)\">к</span><span style=\"background: rgb(255, 238.55011582374573, 238.55011582374573)\">а</span><span style=\"background: rgb(255, 247.154461145401, 247.154461145401)\">з</span><span style=\"background: rgb(255, 254.80776075273752, 254.80776075273752)\">а</span><span style=\"background: rgb(255, 254.88415487110615, 254.88415487110615)\">л</span><span style=\"background: rgb(255, 252.8755486011505, 252.8755486011505)\"> </span><span style=\"background: rgb(255, 229.85379695892334, 229.85379695892334)\">:</span><span style=\"background: rgb(255, 254.99920371366898, 254.99920371366898)\"> </span><span style=\"background: rgb(255, 251.30269974470139, 251.30269974470139)\">–</span><span style=\"background: rgb(255, 254.99855290399864, 254.99855290399864)\"> </span><span style=\"background: rgb(255, 234.21729564666748, 234.21729564666748)\">П</span><span style=\"background: rgb(255, 252.13634312152863, 252.13634312152863)\">о</span><span style=\"background: rgb(255, 235.71267366409302, 235.71267366409302)\"> </span><span style=\"background: rgb(255, 245.18469035625458, 245.18469035625458)\">м</span><span style=\"background: rgb(255, 254.24291729927063, 254.24291729927063)\">о</span><span style=\"background: rgb(255, 252.11140751838684, 252.11140751838684)\">е</span><span style=\"background: rgb(255, 253.8024903833866, 253.8024903833866)\">м</span><span style=\"background: rgb(255, 254.14132155478, 254.14132155478)\">у</span><span style=\"background: rgb(255, 254.99287144164555, 254.99287144164555)\"> </span><span style=\"background: rgb(255, 251.46848917007446, 251.46848917007446)\">,</span><span style=\"background: rgb(255, 254.9968629036448, 254.9968629036448)\"> </span><span style=\"background: rgb(255, 226.1858367919922, 226.1858367919922)\">н</span><span style=\"background: rgb(255, 240.03933906555176, 240.03933906555176)\">е</span><span style=\"background: rgb(255, 247.6877248287201, 247.6877248287201)\"> </span><span style=\"background: rgb(255, 232.56551504135132, 232.56551504135132)\">п</span><span style=\"background: rgb(255, 250.3133726119995, 250.3133726119995)\">о</span><span style=\"background: rgb(255, 235.79715013504028, 235.79715013504028)\">н</span><span style=\"background: rgb(255, 244.54029321670532, 244.54029321670532)\">и</span><span style=\"background: rgb(255, 254.55904331058264, 254.55904331058264)\">м</span><span style=\"background: rgb(255, 254.28411677479744, 254.28411677479744)\">а</span><span style=\"background: rgb(255, 253.62821102142334, 253.62821102142334)\">е</span><span style=\"background: rgb(255, 248.33433210849762, 248.33433210849762)\">ш</span><span style=\"background: rgb(255, 254.8550304863602, 254.8550304863602)\">ь</span><span style=\"background: rgb(255, 254.9773413548246, 254.9773413548246)\"> </span><span style=\"background: rgb(255, 245.44426083564758, 245.44426083564758)\">,</span><span style=\"background: rgb(255, 254.99905471500824, 254.99905471500824)\"> </span><span style=\"background: rgb(255, 246.3690036535263, 246.3690036535263)\">ч</span><span style=\"background: rgb(255, 254.74887881428003, 254.74887881428003)\">т</span><span style=\"background: rgb(255, 254.99325741198845, 254.99325741198845)\">о</span><span style=\"background: rgb(255, 254.43123038858175, 254.43123038858175)\"> </span><span style=\"background: rgb(255, 233.33898544311523, 233.33898544311523)\">о</span><span style=\"background: rgb(255, 254.2875275015831, 254.2875275015831)\">н</span><span style=\"background: rgb(255, 247.98591256141663, 247.98591256141663)\"> </span><span style=\"background: rgb(255, 238.2504963874817, 238.2504963874817)\">п</span><span style=\"background: rgb(255, 248.37195754051208, 248.37195754051208)\">о</span><span style=\"background: rgb(255, 232.80269861221313, 232.80269861221313)\">с</span><span style=\"background: rgb(255, 242.0140242576599, 242.0140242576599)\">т</span><span style=\"background: rgb(255, 251.29310309886932, 251.29310309886932)\">а</span><span style=\"background: rgb(255, 252.78549119830132, 252.78549119830132)\">р</span><span style=\"background: rgb(255, 245.85474908351898, 245.85474908351898)\">а</span><span style=\"background: rgb(255, 254.24574807286263, 254.24574807286263)\">л</span><span style=\"background: rgb(255, 251.48106157779694, 251.48106157779694)\">с</span><span style=\"background: rgb(255, 254.8640674725175, 254.8640674725175)\">я</span><span style=\"background: rgb(255, 254.99920490561635, 254.99920490561635)\"> </span><span style=\"background: rgb(255, 239.2341125011444, 239.2341125011444)\">.</span>"
            ],
            "text/plain": [
              "<IPython.core.display.HTML object>"
            ]
          },
          "metadata": {
            "tags": []
          }
        },
        {
          "output_type": "display_data",
          "data": {
            "text/html": [
              "<span style=\"background: rgb(255, 243.99394035339355, 243.99394035339355)\">–</span><span style=\"background: rgb(255, 254.99885565630393, 254.99885565630393)\"> </span><span style=\"background: rgb(255, 225.024893283844, 225.024893283844)\">Д</span><span style=\"background: rgb(255, 223.86694431304932, 223.86694431304932)\">ж</span><span style=\"background: rgb(255, 254.13510084152222, 254.13510084152222)\">о</span><span style=\"background: rgb(255, 254.6274247020483, 254.6274247020483)\">н</span><span style=\"background: rgb(255, 254.83564991503954, 254.83564991503954)\"> </span><span style=\"background: rgb(255, 226.4115285873413, 226.4115285873413)\">у</span><span style=\"background: rgb(255, 248.8281911611557, 248.8281911611557)\">ж</span><span style=\"background: rgb(255, 244.13198709487915, 244.13198709487915)\">е</span><span style=\"background: rgb(255, 254.99827399849892, 254.99827399849892)\"> </span><span style=\"background: rgb(255, 230.93094110488892, 230.93094110488892)\">н</span><span style=\"background: rgb(255, 245.32970786094666, 245.32970786094666)\">е</span><span style=\"background: rgb(255, 254.58741545677185, 254.58741545677185)\"> </span><span style=\"background: rgb(255, 242.2655427455902, 242.2655427455902)\">с</span><span style=\"background: rgb(255, 232.27349281311035, 232.27349281311035)\">л</span><span style=\"background: rgb(255, 236.68878316879272, 236.68878316879272)\">ы</span><span style=\"background: rgb(255, 253.52223545312881, 253.52223545312881)\">ш</span><span style=\"background: rgb(255, 251.819007396698, 251.819007396698)\">а</span><span style=\"background: rgb(255, 254.77728251367807, 254.77728251367807)\">л</span><span style=\"background: rgb(255, 245.6715965270996, 245.6715965270996)\"> </span><span style=\"background: rgb(255, 205.40592670440674, 205.40592670440674)\">.</span>"
            ],
            "text/plain": [
              "<IPython.core.display.HTML object>"
            ]
          },
          "metadata": {
            "tags": []
          }
        },
        {
          "output_type": "display_data",
          "data": {
            "text/html": [
              "<span style=\"background: rgb(255, 242.99359798431396, 242.99359798431396)\">–</span><span style=\"background: rgb(255, 254.99906544282567, 254.99906544282567)\"> </span><span style=\"background: rgb(255, 231.9303059577942, 231.9303059577942)\">Н</span><span style=\"background: rgb(255, 248.144571185112, 248.144571185112)\">е</span><span style=\"background: rgb(255, 240.148104429245, 240.148104429245)\"> </span><span style=\"background: rgb(255, 241.10354781150818, 241.10354781150818)\">с</span><span style=\"background: rgb(255, 250.44035732746124, 250.44035732746124)\">о</span><span style=\"background: rgb(255, 246.29890203475952, 246.29890203475952)\">м</span><span style=\"background: rgb(255, 254.94037557393312, 254.94037557393312)\">н</span><span style=\"background: rgb(255, 254.8739872314036, 254.8739872314036)\">е</span><span style=\"background: rgb(255, 254.93954610545188, 254.93954610545188)\">в</span><span style=\"background: rgb(255, 254.77187100797892, 254.77187100797892)\">а</span><span style=\"background: rgb(255, 247.98628389835358, 247.98628389835358)\">й</span><span style=\"background: rgb(255, 253.74386563897133, 253.74386563897133)\">с</span><span style=\"background: rgb(255, 254.65927377343178, 254.65927377343178)\">я</span><span style=\"background: rgb(255, 254.98041046317667, 254.98041046317667)\"> </span><span style=\"background: rgb(255, 245.54959177970886, 245.54959177970886)\">,</span><span style=\"background: rgb(255, 254.99970078915794, 254.99970078915794)\"> </span><span style=\"background: rgb(255, 248.74338924884796, 248.74338924884796)\">–</span><span style=\"background: rgb(255, 254.9940806266386, 254.9940806266386)\"> </span><span style=\"background: rgb(255, 241.20651364326477, 241.20651364326477)\">п</span><span style=\"background: rgb(255, 251.80004835128784, 251.80004835128784)\">р</span><span style=\"background: rgb(255, 252.36326068639755, 252.36326068639755)\">о</span><span style=\"background: rgb(255, 252.89888456463814, 252.89888456463814)\">г</span><span style=\"background: rgb(255, 254.95692839846015, 254.95692839846015)\">о</span><span style=\"background: rgb(255, 254.69922395423055, 254.69922395423055)\">в</span><span style=\"background: rgb(255, 254.97621030313894, 254.97621030313894)\">о</span><span style=\"background: rgb(255, 254.99696539191063, 254.99696539191063)\">р</span><span style=\"background: rgb(255, 254.99552707595285, 254.99552707595285)\">и</span><span style=\"background: rgb(255, 254.99476569821127, 254.99476569821127)\">л</span><span style=\"background: rgb(255, 251.4560103416443, 251.4560103416443)\"> </span><span style=\"background: rgb(255, 240.04353165626526, 240.04353165626526)\">Н</span><span style=\"background: rgb(255, 254.93943709414452, 254.93943709414452)\">е</span><span style=\"background: rgb(255, 254.98528014752083, 254.98528014752083)\">д</span><span style=\"background: rgb(255, 254.9167625978589, 254.9167625978589)\"> </span><span style=\"background: rgb(255, 252.5791710615158, 252.5791710615158)\">.</span>"
            ],
            "text/plain": [
              "<IPython.core.display.HTML object>"
            ]
          },
          "metadata": {
            "tags": []
          }
        },
        {
          "output_type": "display_data",
          "data": {
            "text/html": [
              "<span style=\"background: rgb(255, 243.2906460762024, 243.2906460762024)\">–</span><span style=\"background: rgb(255, 254.9985231058963, 254.9985231058963)\"> </span><span style=\"background: rgb(255, 224.765043258667, 224.765043258667)\">Я</span><span style=\"background: rgb(255, 254.98438981245272, 254.98438981245272)\"> </span><span style=\"background: rgb(255, 227.04806089401245, 227.04806089401245)\">х</span><span style=\"background: rgb(255, 254.5995620265603, 254.5995620265603)\">о</span><span style=\"background: rgb(255, 254.37226198613644, 254.37226198613644)\">ч</span><span style=\"background: rgb(255, 252.9193751513958, 252.9193751513958)\">у</span><span style=\"background: rgb(255, 254.9141088873148, 254.9141088873148)\"> </span><span style=\"background: rgb(255, 237.502863407135, 237.502863407135)\">п</span><span style=\"background: rgb(255, 243.33190321922302, 243.33190321922302)\">о</span><span style=\"background: rgb(255, 239.54665541648865, 239.54665541648865)\">с</span><span style=\"background: rgb(255, 245.32898545265198, 245.32898545265198)\">м</span><span style=\"background: rgb(255, 254.8268705420196, 254.8268705420196)\">о</span><span style=\"background: rgb(255, 254.86446850001812, 254.86446850001812)\">т</span><span style=\"background: rgb(255, 254.8624059278518, 254.8624059278518)\">р</span><span style=\"background: rgb(255, 253.94236974418163, 253.94236974418163)\">е</span><span style=\"background: rgb(255, 253.82505647838116, 253.82505647838116)\">т</span><span style=\"background: rgb(255, 254.92555384058505, 254.92555384058505)\">ь</span><span style=\"background: rgb(255, 254.94299122598022, 254.94299122598022)\"> </span><span style=\"background: rgb(255, 242.7159321308136, 242.7159321308136)\">,</span><span style=\"background: rgb(255, 254.99293696018867, 254.99293696018867)\"> </span><span style=\"background: rgb(255, 243.15727710723877, 243.15727710723877)\">ч</span><span style=\"background: rgb(255, 253.8097234815359, 253.8097234815359)\">т</span><span style=\"background: rgb(255, 254.98782898881473, 254.98782898881473)\">о</span><span style=\"background: rgb(255, 253.55580911040306, 253.55580911040306)\"> </span><span style=\"background: rgb(255, 234.3648386001587, 234.3648386001587)\">о</span><span style=\"background: rgb(255, 254.44951716810465, 254.44951716810465)\">н</span><span style=\"background: rgb(255, 250.750333070755, 250.750333070755)\"> </span><span style=\"background: rgb(255, 237.21154928207397, 237.21154928207397)\">п</span><span style=\"background: rgb(255, 248.5192197561264, 248.5192197561264)\">о</span><span style=\"background: rgb(255, 229.45130825042725, 229.45130825042725)\">с</span><span style=\"background: rgb(255, 237.42582082748413, 237.42582082748413)\">т</span><span style=\"background: rgb(255, 249.26687061786652, 249.26687061786652)\">а</span><span style=\"background: rgb(255, 213.3410406112671, 213.3410406112671)\">в</span><span style=\"background: rgb(255, 254.91816834546626, 254.91816834546626)\">и</span><span style=\"background: rgb(255, 254.82266526669264, 254.82266526669264)\">л</span><span style=\"background: rgb(255, 254.42203372716904, 254.42203372716904)\"> </span><span style=\"background: rgb(255, 239.5183265209198, 239.5183265209198)\">е</span><span style=\"background: rgb(255, 242.46841430664062, 242.46841430664062)\">г</span><span style=\"background: rgb(255, 254.98889348004013, 254.98889348004013)\">о</span><span style=\"background: rgb(255, 254.99943734797853, 254.99943734797853)\"> </span><span style=\"background: rgb(255, 240.80267786979675, 240.80267786979675)\">.</span>"
            ],
            "text/plain": [
              "<IPython.core.display.HTML object>"
            ]
          },
          "metadata": {
            "tags": []
          }
        },
        {
          "output_type": "display_data",
          "data": {
            "text/html": [
              "<span style=\"background: rgb(255, 228.61034870147705, 228.61034870147705)\">Д</span><span style=\"background: rgb(255, 243.97820353507996, 243.97820353507996)\">ж</span><span style=\"background: rgb(255, 253.72007608413696, 253.72007608413696)\">о</span><span style=\"background: rgb(255, 218.5238790512085, 218.5238790512085)\">ф</span><span style=\"background: rgb(255, 254.84567414969206, 254.84567414969206)\">ф</span><span style=\"background: rgb(255, 254.9664571811445, 254.9664571811445)\">р</span><span style=\"background: rgb(255, 254.99666508025257, 254.99666508025257)\">и</span><span style=\"background: rgb(255, 254.95214724447578, 254.95214724447578)\"> </span><span style=\"background: rgb(255, 218.10030698776245, 218.10030698776245)\">,</span><span style=\"background: rgb(255, 254.99873288557865, 254.99873288557865)\"> </span><span style=\"background: rgb(255, 227.05147504806519, 227.05147504806519)\">–</span><span style=\"background: rgb(255, 254.99156711506657, 254.99156711506657)\"> </span><span style=\"background: rgb(255, 240.55261850357056, 240.55261850357056)\">п</span><span style=\"background: rgb(255, 250.66796392202377, 250.66796392202377)\">р</span><span style=\"background: rgb(255, 253.66674065589905, 253.66674065589905)\">о</span><span style=\"background: rgb(255, 249.11949515342712, 249.11949515342712)\">г</span><span style=\"background: rgb(255, 254.90804404951632, 254.90804404951632)\">о</span><span style=\"background: rgb(255, 254.96330564608797, 254.96330564608797)\">в</span><span style=\"background: rgb(255, 254.99128244933672, 254.99128244933672)\">о</span><span style=\"background: rgb(255, 254.99380065477453, 254.99380065477453)\">р</span><span style=\"background: rgb(255, 254.99722400098108, 254.99722400098108)\">и</span><span style=\"background: rgb(255, 254.9925295606954, 254.9925295606954)\">л</span><span style=\"background: rgb(255, 252.88915798068047, 252.88915798068047)\"> </span><span style=\"background: rgb(255, 242.1049404144287, 242.1049404144287)\">о</span><span style=\"background: rgb(255, 254.54853188246489, 254.54853188246489)\">н</span><span style=\"background: rgb(255, 254.9938363954425, 254.9938363954425)\"> </span><span style=\"background: rgb(255, 248.83657932281494, 248.83657932281494)\">.</span>"
            ],
            "text/plain": [
              "<IPython.core.display.HTML object>"
            ]
          },
          "metadata": {
            "tags": []
          }
        }
      ]
    },
    {
      "metadata": {
        "id": "VLBt8bUVOIWG",
        "colab_type": "text"
      },
      "cell_type": "markdown",
      "source": [
        "### Loss считается адекватным для текстов, которые модель сама сгенерировала"
      ]
    },
    {
      "metadata": {
        "id": "p4TP5yz89n1p",
        "colab_type": "text"
      },
      "cell_type": "markdown",
      "source": [
        ""
      ]
    }
  ]
}